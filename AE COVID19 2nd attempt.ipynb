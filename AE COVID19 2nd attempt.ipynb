{
 "cells": [
  {
   "cell_type": "code",
   "execution_count": 3,
   "metadata": {},
   "outputs": [],
   "source": [
    "from uk_covid19 import Cov19API\n",
    "import json"
   ]
  },
  {
   "cell_type": "code",
   "execution_count": 4,
   "metadata": {},
   "outputs": [],
   "source": [
    "filters = [\n",
    "    'areaType=overview' # note each metric-value pair is inside one string\n",
    "]"
   ]
  },
  {
   "cell_type": "code",
   "execution_count": 5,
   "metadata": {},
   "outputs": [],
   "source": [
    "structure = {\n",
    "    \"date\": \"date\",\n",
    "    \"cases\": \"newCasesByPublishDate\",\n",
    "    \"hospital\": \"newAdmissions\",\n",
    "    \"deaths\": \"cumDeaths28DaysByDeathDateRate\"    \n",
    "}"
   ]
  },
  {
   "cell_type": "code",
   "execution_count": 6,
   "metadata": {},
   "outputs": [],
   "source": [
    "api = Cov19API(filters=filters, structure=structure)"
   ]
  },
  {
   "cell_type": "code",
   "execution_count": 7,
   "metadata": {},
   "outputs": [
    {
     "name": "stdout",
     "output_type": "stream",
     "text": [
      "{'data': [{'date': '2020-10-21', 'cases': 26688, 'hospital': None, 'deaths': None}, {'date': '2020-10-20', 'cases': 21331, 'hospital': None, 'deaths': 66.1}, {'date': '2020-10-19', 'cases': 18804, 'hospital': None, 'deaths': 66}, {'date': '2020-10-18', 'cases': 16982, 'hospital': None, 'deaths': 65.9}, {'date': '2020-10-17', 'cases': 16171, 'hospital': 996, 'deaths': 65.7}, {'date': '2020-10-16', 'cases': 15650, 'hospital': 874, 'deaths': 65.5}, {'date': '2020-10-15', 'cases': 18980, 'hospital': 1022, 'deaths': 65.3}, {'date': '2020-10-14', 'cases': 19724, 'hospital': 934, 'deaths': 65.1}, {'date': '2020-10-13', 'cases': 17234, 'hospital': 992, 'deaths': 64.9}, {'date': '2020-10-12', 'cases': 13972, 'hospital': 845, 'deaths': 64.8}, {'date': '2020-10-11', 'cases': 12872, 'hospital': 800, 'deaths': 64.6}, {'date': '2020-10-10', 'cases': 15166, 'hospital': 693, 'deaths': 64.4}, {'date': '2020-10-09', 'cases': 13864, 'hospital': 679, 'deaths': 64.3}, {'date': '2020-10-08', 'cases': 17540, 'hospital': 684, 'deaths': 64.2}, {'date': '2020-10-07', 'cases': 14162, 'hospital': 660, 'deaths': 64}, {'date': '2020-10-06', 'cases': 14542, 'hospital': 700, 'deaths': 63.9}, {'date': '2020-10-05', 'cases': 12594, 'hospital': 610, 'deaths': 63.8}, {'date': '2020-10-04', 'cases': 22961, 'hospital': 621, 'deaths': 63.7}, {'date': '2020-10-03', 'cases': 12872, 'hospital': 522, 'deaths': 63.6}, {'date': '2020-10-02', 'cases': 6968, 'hospital': 517, 'deaths': 63.5}, {'date': '2020-10-01', 'cases': 6914, 'hospital': 507, 'deaths': 63.4}, {'date': '2020-09-30', 'cases': 7108, 'hospital': 438, 'deaths': 63.3}, {'date': '2020-09-29', 'cases': 7143, 'hospital': 433, 'deaths': 63.2}, {'date': '2020-09-28', 'cases': 4044, 'hospital': 435, 'deaths': 63.1}, {'date': '2020-09-27', 'cases': 5693, 'hospital': 334, 'deaths': 63.1}, {'date': '2020-09-26', 'cases': 6042, 'hospital': 337, 'deaths': 63}, {'date': '2020-09-25', 'cases': 6874, 'hospital': 374, 'deaths': 62.9}, {'date': '2020-09-24', 'cases': 6634, 'hospital': 416, 'deaths': 62.9}, {'date': '2020-09-23', 'cases': 6178, 'hospital': 411, 'deaths': 62.8}, {'date': '2020-09-22', 'cases': 4926, 'hospital': 346, 'deaths': 62.8}, {'date': '2020-09-21', 'cases': 4368, 'hospital': 362, 'deaths': 62.7}, {'date': '2020-09-20', 'cases': 3899, 'hospital': 283, 'deaths': 62.7}, {'date': '2020-09-19', 'cases': 4422, 'hospital': 254, 'deaths': 62.6}, {'date': '2020-09-18', 'cases': 4322, 'hospital': 255, 'deaths': 62.6}, {'date': '2020-09-17', 'cases': 3395, 'hospital': 260, 'deaths': 62.5}, {'date': '2020-09-16', 'cases': 3991, 'hospital': 272, 'deaths': 62.5}, {'date': '2020-09-15', 'cases': 3105, 'hospital': 261, 'deaths': 62.5}, {'date': '2020-09-14', 'cases': 2621, 'hospital': 248, 'deaths': 62.4}, {'date': '2020-09-13', 'cases': 3330, 'hospital': 220, 'deaths': 62.4}, {'date': '2020-09-12', 'cases': 3497, 'hospital': 212, 'deaths': 62.4}, {'date': '2020-09-11', 'cases': 3539, 'hospital': 223, 'deaths': 62.4}, {'date': '2020-09-10', 'cases': 2919, 'hospital': 214, 'deaths': 62.3}, {'date': '2020-09-09', 'cases': 2659, 'hospital': 198, 'deaths': 62.3}, {'date': '2020-09-08', 'cases': 2460, 'hospital': 179, 'deaths': 62.3}, {'date': '2020-09-07', 'cases': 2948, 'hospital': 138, 'deaths': 62.3}, {'date': '2020-09-06', 'cases': 2988, 'hospital': 135, 'deaths': 62.3}, {'date': '2020-09-05', 'cases': 1813, 'hospital': 127, 'deaths': 62.3}, {'date': '2020-09-04', 'cases': 1940, 'hospital': 149, 'deaths': 62.2}, {'date': '2020-09-03', 'cases': 1735, 'hospital': 142, 'deaths': 62.2}, {'date': '2020-09-02', 'cases': 1508, 'hospital': 143, 'deaths': 62.2}, {'date': '2020-09-01', 'cases': 1295, 'hospital': 132, 'deaths': 62.2}, {'date': '2020-08-31', 'cases': 1406, 'hospital': 90, 'deaths': 62.2}, {'date': '2020-08-30', 'cases': 1715, 'hospital': 76, 'deaths': 62.2}, {'date': '2020-08-29', 'cases': 1108, 'hospital': 108, 'deaths': 62.2}, {'date': '2020-08-28', 'cases': 1276, 'hospital': 137, 'deaths': 62.2}, {'date': '2020-08-27', 'cases': 1522, 'hospital': 146, 'deaths': 62.1}, {'date': '2020-08-26', 'cases': 1048, 'hospital': 127, 'deaths': 62.1}, {'date': '2020-08-25', 'cases': 1184, 'hospital': 119, 'deaths': 62.1}, {'date': '2020-08-24', 'cases': 853, 'hospital': 88, 'deaths': 62.1}, {'date': '2020-08-23', 'cases': 1160, 'hospital': 73, 'deaths': 62.1}, {'date': '2020-08-22', 'cases': 1288, 'hospital': 69, 'deaths': 62.1}, {'date': '2020-08-21', 'cases': 1033, 'hospital': 108, 'deaths': 62.1}, {'date': '2020-08-20', 'cases': 1182, 'hospital': 94, 'deaths': 62.1}, {'date': '2020-08-19', 'cases': 812, 'hospital': 111, 'deaths': 62}, {'date': '2020-08-18', 'cases': 1089, 'hospital': 126, 'deaths': 62}, {'date': '2020-08-17', 'cases': 713, 'hospital': 94, 'deaths': 62}, {'date': '2020-08-16', 'cases': 1040, 'hospital': 79, 'deaths': 62}, {'date': '2020-08-15', 'cases': 1077, 'hospital': 98, 'deaths': 62}, {'date': '2020-08-14', 'cases': 1441, 'hospital': 99, 'deaths': 62}, {'date': '2020-08-13', 'cases': 1129, 'hospital': 126, 'deaths': 62}, {'date': '2020-08-12', 'cases': 1009, 'hospital': 100, 'deaths': 62}, {'date': '2020-08-11', 'cases': 1148, 'hospital': 113, 'deaths': 61.9}, {'date': '2020-08-10', 'cases': 740, 'hospital': 84, 'deaths': 61.9}, {'date': '2020-08-09', 'cases': 1062, 'hospital': 106, 'deaths': 61.9}, {'date': '2020-08-08', 'cases': 758, 'hospital': 139, 'deaths': 61.9}, {'date': '2020-08-07', 'cases': 871, 'hospital': 115, 'deaths': 61.9}, {'date': '2020-08-06', 'cases': 950, 'hospital': 100, 'deaths': 61.9}, {'date': '2020-08-05', 'cases': 892, 'hospital': 138, 'deaths': 61.8}, {'date': '2020-08-04', 'cases': 670, 'hospital': 126, 'deaths': 61.8}, {'date': '2020-08-03', 'cases': 898, 'hospital': 106, 'deaths': 61.8}, {'date': '2020-08-02', 'cases': 744, 'hospital': 93, 'deaths': 61.8}, {'date': '2020-08-01', 'cases': 761, 'hospital': 127, 'deaths': 61.8}, {'date': '2020-07-31', 'cases': 880, 'hospital': 112, 'deaths': 61.8}, {'date': '2020-07-30', 'cases': 846, 'hospital': 129, 'deaths': 61.7}, {'date': '2020-07-29', 'cases': 763, 'hospital': 131, 'deaths': 61.7}, {'date': '2020-07-28', 'cases': 581, 'hospital': 119, 'deaths': 61.7}, {'date': '2020-07-27', 'cases': 685, 'hospital': 128, 'deaths': 61.7}, {'date': '2020-07-26', 'cases': 745, 'hospital': 109, 'deaths': 61.7}, {'date': '2020-07-25', 'cases': 767, 'hospital': 117, 'deaths': 61.6}, {'date': '2020-07-24', 'cases': 768, 'hospital': 157, 'deaths': 61.6}, {'date': '2020-07-23', 'cases': 769, 'hospital': 198, 'deaths': 61.6}, {'date': '2020-07-22', 'cases': 560, 'hospital': 157, 'deaths': 61.6}, {'date': '2020-07-21', 'cases': 445, 'hospital': 125, 'deaths': 61.6}, {'date': '2020-07-20', 'cases': 557, 'hospital': 130, 'deaths': 61.5}, {'date': '2020-07-19', 'cases': 726, 'hospital': 126, 'deaths': 61.5}, {'date': '2020-07-18', 'cases': 827, 'hospital': 104, 'deaths': 61.5}, {'date': '2020-07-17', 'cases': 687, 'hospital': 142, 'deaths': 61.5}, {'date': '2020-07-16', 'cases': 642, 'hospital': 166, 'deaths': 61.5}, {'date': '2020-07-15', 'cases': 538, 'hospital': 165, 'deaths': 61.4}, {'date': '2020-07-14', 'cases': 398, 'hospital': 185, 'deaths': 61.4}, {'date': '2020-07-13', 'cases': 530, 'hospital': 188, 'deaths': 61.4}, {'date': '2020-07-12', 'cases': 650, 'hospital': 114, 'deaths': 61.3}, {'date': '2020-07-11', 'cases': 820, 'hospital': 175, 'deaths': 61.3}, {'date': '2020-07-10', 'cases': 512, 'hospital': 174, 'deaths': 61.3}, {'date': '2020-07-09', 'cases': 642, 'hospital': 212, 'deaths': 61.2}, {'date': '2020-07-08', 'cases': 630, 'hospital': 208, 'deaths': 61.2}, {'date': '2020-07-07', 'cases': 581, 'hospital': 214, 'deaths': 61.2}, {'date': '2020-07-06', 'cases': 343, 'hospital': 205, 'deaths': 61.1}, {'date': '2020-07-05', 'cases': 516, 'hospital': 195, 'deaths': 61.1}, {'date': '2020-07-04', 'cases': 624, 'hospital': 201, 'deaths': 61}, {'date': '2020-07-03', 'cases': 544, 'hospital': 213, 'deaths': 61}, {'date': '2020-07-02', 'cases': 576, 'hospital': 214, 'deaths': 60.9}, {'date': '2020-07-01', 'cases': 829, 'hospital': 269, 'deaths': 60.9}, {'date': '2020-06-30', 'cases': 689, 'hospital': 295, 'deaths': 60.8}, {'date': '2020-06-29', 'cases': 815, 'hospital': 219, 'deaths': 60.8}, {'date': '2020-06-28', 'cases': 901, 'hospital': 207, 'deaths': 60.7}, {'date': '2020-06-27', 'cases': 890, 'hospital': 286, 'deaths': 60.6}, {'date': '2020-06-26', 'cases': 1006, 'hospital': 337, 'deaths': 60.6}, {'date': '2020-06-25', 'cases': 1118, 'hospital': 322, 'deaths': 60.5}, {'date': '2020-06-24', 'cases': 653, 'hospital': 368, 'deaths': 60.4}, {'date': '2020-06-23', 'cases': 874, 'hospital': 361, 'deaths': 60.3}, {'date': '2020-06-22', 'cases': 958, 'hospital': 392, 'deaths': 60.2}, {'date': '2020-06-21', 'cases': 1221, 'hospital': 287, 'deaths': 60.1}, {'date': '2020-06-20', 'cases': 1295, 'hospital': 257, 'deaths': 60}, {'date': '2020-06-19', 'cases': 1346, 'hospital': 337, 'deaths': 59.9}, {'date': '2020-06-18', 'cases': 1218, 'hospital': 401, 'deaths': 59.8}, {'date': '2020-06-17', 'cases': 1115, 'hospital': 432, 'deaths': 59.8}, {'date': '2020-06-16', 'cases': 1279, 'hospital': 454, 'deaths': 59.7}, {'date': '2020-06-15', 'cases': 1056, 'hospital': 439, 'deaths': 59.5}, {'date': '2020-06-14', 'cases': 1514, 'hospital': 364, 'deaths': 59.4}, {'date': '2020-06-13', 'cases': 1425, 'hospital': 387, 'deaths': 59.3}, {'date': '2020-06-12', 'cases': 1541, 'hospital': 391, 'deaths': 59.2}, {'date': '2020-06-11', 'cases': 1266, 'hospital': 446, 'deaths': 59.1}, {'date': '2020-06-10', 'cases': 1003, 'hospital': 513, 'deaths': 59}, {'date': '2020-06-09', 'cases': 1387, 'hospital': 493, 'deaths': 58.8}, {'date': '2020-06-08', 'cases': 1205, 'hospital': 412, 'deaths': 58.7}, {'date': '2020-06-07', 'cases': 1326, 'hospital': 406, 'deaths': 58.5}, {'date': '2020-06-06', 'cases': 1557, 'hospital': 406, 'deaths': 58.3}, {'date': '2020-06-05', 'cases': 1650, 'hospital': 474, 'deaths': 58.1}, {'date': '2020-06-04', 'cases': 1805, 'hospital': 564, 'deaths': 58}, {'date': '2020-06-03', 'cases': 1871, 'hospital': 633, 'deaths': 57.8}, {'date': '2020-06-02', 'cases': 1613, 'hospital': 667, 'deaths': 57.5}, {'date': '2020-06-01', 'cases': 1570, 'hospital': 604, 'deaths': 57.3}, {'date': '2020-05-31', 'cases': 1936, 'hospital': 528, 'deaths': 57.1}, {'date': '2020-05-30', 'cases': 2445, 'hospital': 567, 'deaths': 56.9}, {'date': '2020-05-29', 'cases': 2095, 'hospital': 614, 'deaths': 56.6}, {'date': '2020-05-28', 'cases': 1887, 'hospital': 702, 'deaths': 56.4}, {'date': '2020-05-27', 'cases': 2013, 'hospital': 712, 'deaths': 56}, {'date': '2020-05-26', 'cases': 2004, 'hospital': 697, 'deaths': 55.7}, {'date': '2020-05-25', 'cases': 1625, 'hospital': 602, 'deaths': 55.4}, {'date': '2020-05-24', 'cases': 2409, 'hospital': 587, 'deaths': 55.1}, {'date': '2020-05-23', 'cases': 2959, 'hospital': 643, 'deaths': 54.8}, {'date': '2020-05-22', 'cases': 3287, 'hospital': 738, 'deaths': 54.5}, {'date': '2020-05-21', 'cases': 2615, 'hospital': 840, 'deaths': 54.2}, {'date': '2020-05-20', 'cases': 2472, 'hospital': 851, 'deaths': 53.8}, {'date': '2020-05-19', 'cases': 2412, 'hospital': 879, 'deaths': 53.4}, {'date': '2020-05-18', 'cases': 2684, 'hospital': 850, 'deaths': 53}, {'date': '2020-05-17', 'cases': 3562, 'hospital': 793, 'deaths': 52.6}, {'date': '2020-05-16', 'cases': 3451, 'hospital': 816, 'deaths': 52.2}, {'date': '2020-05-15', 'cases': 3560, 'hospital': 870, 'deaths': 51.7}, {'date': '2020-05-14', 'cases': 3446, 'hospital': 910, 'deaths': 51.2}, {'date': '2020-05-13', 'cases': 3242, 'hospital': 968, 'deaths': 50.7}, {'date': '2020-05-12', 'cases': 3403, 'hospital': 986, 'deaths': 50.3}, {'date': '2020-05-11', 'cases': 3877, 'hospital': 1029, 'deaths': 49.8}, {'date': '2020-05-10', 'cases': 3923, 'hospital': 914, 'deaths': 49.3}, {'date': '2020-05-09', 'cases': 3896, 'hospital': 940, 'deaths': 48.8}, {'date': '2020-05-08', 'cases': 4649, 'hospital': 910, 'deaths': 48.2}, {'date': '2020-05-07', 'cases': 5614, 'hospital': 1164, 'deaths': 47.7}, {'date': '2020-05-06', 'cases': 6111, 'hospital': 1206, 'deaths': 47}, {'date': '2020-05-05', 'cases': 4406, 'hospital': 1147, 'deaths': 46.3}, {'date': '2020-05-04', 'cases': 3985, 'hospital': 1278, 'deaths': 45.6}, {'date': '2020-05-03', 'cases': 4339, 'hospital': 1221, 'deaths': 44.9}, {'date': '2020-05-02', 'cases': 4806, 'hospital': 1179, 'deaths': 44.2}, {'date': '2020-05-01', 'cases': 6201, 'hospital': 1262, 'deaths': 43.5}, {'date': '2020-04-30', 'cases': 6032, 'hospital': 1443, 'deaths': 42.6}, {'date': '2020-04-29', 'cases': 4076, 'hospital': 1486, 'deaths': 41.8}, {'date': '2020-04-28', 'cases': 3996, 'hospital': 1516, 'deaths': 40.9}, {'date': '2020-04-27', 'cases': 4310, 'hospital': 1538, 'deaths': 40.1}, {'date': '2020-04-26', 'cases': 4463, 'hospital': 1355, 'deaths': 39.2}, {'date': '2020-04-25', 'cases': 4913, 'hospital': 1254, 'deaths': 38.3}, {'date': '2020-04-24', 'cases': 5386, 'hospital': 1526, 'deaths': 37.3}, {'date': '2020-04-23', 'cases': 4583, 'hospital': 1513, 'deaths': 36.3}, {'date': '2020-04-22', 'cases': 4451, 'hospital': 1528, 'deaths': 35.3}, {'date': '2020-04-21', 'cases': 4301, 'hospital': 1713, 'deaths': 34.2}, {'date': '2020-04-20', 'cases': 4676, 'hospital': 1737, 'deaths': 33.1}, {'date': '2020-04-19', 'cases': 5850, 'hospital': 1657, 'deaths': 31.9}, {'date': '2020-04-18', 'cases': 5526, 'hospital': 1628, 'deaths': 30.8}, {'date': '2020-04-17', 'cases': 5599, 'hospital': 1966, 'deaths': 29.6}, {'date': '2020-04-16', 'cases': 4618, 'hospital': 2010, 'deaths': 28.3}, {'date': '2020-04-15', 'cases': 4605, 'hospital': 1880, 'deaths': 27.1}, {'date': '2020-04-14', 'cases': 5252, 'hospital': 2088, 'deaths': 25.8}, {'date': '2020-04-13', 'cases': 4342, 'hospital': 2160, 'deaths': 24.5}, {'date': '2020-04-12', 'cases': 5288, 'hospital': 2066, 'deaths': 23.2}, {'date': '2020-04-11', 'cases': 5234, 'hospital': 2162, 'deaths': 21.7}, {'date': '2020-04-10', 'cases': 5706, 'hospital': 2460, 'deaths': 20.3}, {'date': '2020-04-09', 'cases': 4675, 'hospital': 2629, 'deaths': 18.9}, {'date': '2020-04-08', 'cases': 5865, 'hospital': 2966, 'deaths': 17.4}, {'date': '2020-04-07', 'cases': 3888, 'hospital': 3150, 'deaths': 15.8}, {'date': '2020-04-06', 'cases': 4143, 'hospital': 3045, 'deaths': 14.3}, {'date': '2020-04-05', 'cases': 6199, 'hospital': 2913, 'deaths': 13}, {'date': '2020-04-04', 'cases': 4000, 'hospital': 2921, 'deaths': 11.6}, {'date': '2020-04-03', 'cases': 4672, 'hospital': 2930, 'deaths': 10.2}, {'date': '2020-04-02', 'cases': 4522, 'hospital': 3282, 'deaths': 9}, {'date': '2020-04-01', 'cases': 4567, 'hospital': 3564, 'deaths': 7.8}, {'date': '2020-03-31', 'cases': 3250, 'hospital': 2835, 'deaths': 6.6}, {'date': '2020-03-30', 'cases': 2665, 'hospital': 3189, 'deaths': 5.6}, {'date': '2020-03-29', 'cases': 2502, 'hospital': 2491, 'deaths': 4.8}, {'date': '2020-03-28', 'cases': 2556, 'hospital': 2193, 'deaths': 4}, {'date': '2020-03-27', 'cases': 2890, 'hospital': 2224, 'deaths': 3.3}, {'date': '2020-03-26', 'cases': 2129, 'hospital': 1930, 'deaths': 2.8}, {'date': '2020-03-25', 'cases': 1452, 'hospital': 2084, 'deaths': 2.2}, {'date': '2020-03-24', 'cases': 1427, 'hospital': 1719, 'deaths': 1.8}, {'date': '2020-03-23', 'cases': 967, 'hospital': 1271, 'deaths': 1.4}, {'date': '2020-03-22', 'cases': 665, 'hospital': None, 'deaths': 1.1}, {'date': '2020-03-21', 'cases': 1035, 'hospital': None, 'deaths': 0.9}, {'date': '2020-03-20', 'cases': 714, 'hospital': None, 'deaths': 0.7}, {'date': '2020-03-19', 'cases': 643, 'hospital': None, 'deaths': 0.5}, {'date': '2020-03-18', 'cases': 676, 'hospital': None, 'deaths': 0.4}, {'date': '2020-03-17', 'cases': 407, 'hospital': None, 'deaths': 0.3}, {'date': '2020-03-16', 'cases': 152, 'hospital': None, 'deaths': 0.2}, {'date': '2020-03-15', 'cases': 330, 'hospital': None, 'deaths': 0.2}, {'date': '2020-03-14', 'cases': 264, 'hospital': None, 'deaths': 0.1}, {'date': '2020-03-13', 'cases': 207, 'hospital': None, 'deaths': 0.1}, {'date': '2020-03-12', 'cases': 134, 'hospital': None, 'deaths': 0.1}, {'date': '2020-03-11', 'cases': 83, 'hospital': None, 'deaths': 0}, {'date': '2020-03-10', 'cases': 52, 'hospital': None, 'deaths': 0}, {'date': '2020-03-09', 'cases': 50, 'hospital': None, 'deaths': 0}, {'date': '2020-03-08', 'cases': 65, 'hospital': None, 'deaths': 0}, {'date': '2020-03-07', 'cases': 46, 'hospital': None, 'deaths': None}, {'date': '2020-03-06', 'cases': 46, 'hospital': None, 'deaths': None}, {'date': '2020-03-05', 'cases': 29, 'hospital': None, 'deaths': 0}, {'date': '2020-03-04', 'cases': 34, 'hospital': None, 'deaths': None}, {'date': '2020-03-03', 'cases': 11, 'hospital': None, 'deaths': 0}, {'date': '2020-03-02', 'cases': 5, 'hospital': None, 'deaths': 0}, {'date': '2020-03-01', 'cases': 12, 'hospital': None, 'deaths': None}, {'date': '2020-02-29', 'cases': 4, 'hospital': None, 'deaths': None}, {'date': '2020-02-28', 'cases': 6, 'hospital': None, 'deaths': None}, {'date': '2020-02-27', 'cases': 0, 'hospital': None, 'deaths': None}, {'date': '2020-02-26', 'cases': 0, 'hospital': None, 'deaths': None}, {'date': '2020-02-25', 'cases': 0, 'hospital': None, 'deaths': None}, {'date': '2020-02-24', 'cases': 4, 'hospital': None, 'deaths': None}, {'date': '2020-02-23', 'cases': 0, 'hospital': None, 'deaths': None}, {'date': '2020-02-22', 'cases': 0, 'hospital': None, 'deaths': None}, {'date': '2020-02-21', 'cases': 0, 'hospital': None, 'deaths': None}, {'date': '2020-02-20', 'cases': 0, 'hospital': None, 'deaths': None}, {'date': '2020-02-19', 'cases': 0, 'hospital': None, 'deaths': None}, {'date': '2020-02-18', 'cases': 0, 'hospital': None, 'deaths': None}, {'date': '2020-02-17', 'cases': 0, 'hospital': None, 'deaths': None}, {'date': '2020-02-16', 'cases': 0, 'hospital': None, 'deaths': None}, {'date': '2020-02-15', 'cases': 0, 'hospital': None, 'deaths': None}, {'date': '2020-02-14', 'cases': 0, 'hospital': None, 'deaths': None}, {'date': '2020-02-13', 'cases': 1, 'hospital': None, 'deaths': None}, {'date': '2020-02-12', 'cases': 0, 'hospital': None, 'deaths': None}, {'date': '2020-02-11', 'cases': 0, 'hospital': None, 'deaths': None}, {'date': '2020-02-10', 'cases': 4, 'hospital': None, 'deaths': None}, {'date': '2020-02-09', 'cases': 1, 'hospital': None, 'deaths': None}, {'date': '2020-02-08', 'cases': 0, 'hospital': None, 'deaths': None}, {'date': '2020-02-07', 'cases': 0, 'hospital': None, 'deaths': None}, {'date': '2020-02-06', 'cases': 1, 'hospital': None, 'deaths': None}, {'date': '2020-02-05', 'cases': 0, 'hospital': None, 'deaths': None}, {'date': '2020-02-04', 'cases': 0, 'hospital': None, 'deaths': None}, {'date': '2020-02-03', 'cases': 0, 'hospital': None, 'deaths': None}, {'date': '2020-02-02', 'cases': 0, 'hospital': None, 'deaths': None}, {'date': '2020-02-01', 'cases': 0, 'hospital': None, 'deaths': None}, {'date': '2020-01-31', 'cases': 2, 'hospital': None, 'deaths': None}, {'date': '2020-01-30', 'cases': 0, 'hospital': None, 'deaths': None}, {'date': '2020-01-29', 'cases': 0, 'hospital': None, 'deaths': None}, {'date': '2020-01-28', 'cases': 0, 'hospital': None, 'deaths': None}, {'date': '2020-01-27', 'cases': 0, 'hospital': None, 'deaths': None}, {'date': '2020-01-26', 'cases': 0, 'hospital': None, 'deaths': None}, {'date': '2020-01-25', 'cases': 0, 'hospital': None, 'deaths': None}, {'date': '2020-01-24', 'cases': 0, 'hospital': None, 'deaths': None}, {'date': '2020-01-23', 'cases': 0, 'hospital': None, 'deaths': None}, {'date': '2020-01-22', 'cases': 0, 'hospital': None, 'deaths': None}, {'date': '2020-01-21', 'cases': 0, 'hospital': None, 'deaths': None}, {'date': '2020-01-20', 'cases': 0, 'hospital': None, 'deaths': None}, {'date': '2020-01-19', 'cases': 0, 'hospital': None, 'deaths': None}, {'date': '2020-01-18', 'cases': 0, 'hospital': None, 'deaths': None}, {'date': '2020-01-17', 'cases': 0, 'hospital': None, 'deaths': None}, {'date': '2020-01-16', 'cases': 0, 'hospital': None, 'deaths': None}, {'date': '2020-01-15', 'cases': 0, 'hospital': None, 'deaths': None}, {'date': '2020-01-14', 'cases': 0, 'hospital': None, 'deaths': None}, {'date': '2020-01-13', 'cases': 0, 'hospital': None, 'deaths': None}, {'date': '2020-01-12', 'cases': 0, 'hospital': None, 'deaths': None}, {'date': '2020-01-11', 'cases': 0, 'hospital': None, 'deaths': None}, {'date': '2020-01-10', 'cases': 0, 'hospital': None, 'deaths': None}, {'date': '2020-01-09', 'cases': 0, 'hospital': None, 'deaths': None}, {'date': '2020-01-08', 'cases': 0, 'hospital': None, 'deaths': None}, {'date': '2020-01-07', 'cases': 0, 'hospital': None, 'deaths': None}, {'date': '2020-01-06', 'cases': 0, 'hospital': None, 'deaths': None}, {'date': '2020-01-05', 'cases': 0, 'hospital': None, 'deaths': None}, {'date': '2020-01-04', 'cases': 0, 'hospital': None, 'deaths': None}, {'date': '2020-01-03', 'cases': 0, 'hospital': None, 'deaths': None}], 'lastUpdate': '2020-10-21T18:53:17.000000Z', 'length': 293, 'totalPages': 1}\n",
      "<class 'dict'>\n"
     ]
    }
   ],
   "source": [
    "timeseries=api.get_json()\n",
    "print(timeseries)\n",
    "print(type(timeseries)) "
   ]
  },
  {
   "cell_type": "code",
   "execution_count": 9,
   "metadata": {},
   "outputs": [],
   "source": [
    "import json\n",
    "with open(\"timeseries.json\", \"wt\") as OUTF:\n",
    "    json.dump(timeseries, OUTF)"
   ]
  },
  {
   "cell_type": "code",
   "execution_count": 10,
   "metadata": {},
   "outputs": [],
   "source": [
    "import pandas as pd\n",
    "import matplotlib.pyplot as plt\n",
    "import json\n",
    "\n",
    "%matplotlib inline\n",
    "# make figures larger\n",
    "plt.rcParams['figure.dpi'] = 100"
   ]
  },
  {
   "cell_type": "code",
   "execution_count": 11,
   "metadata": {},
   "outputs": [
    {
     "data": {
      "text/plain": [
       "{'data': [{'date': '2020-10-21',\n",
       "   'cases': 26688,\n",
       "   'hospital': None,\n",
       "   'deaths': None},\n",
       "  {'date': '2020-10-20', 'cases': 21331, 'hospital': None, 'deaths': 66.1},\n",
       "  {'date': '2020-10-19', 'cases': 18804, 'hospital': None, 'deaths': 66},\n",
       "  {'date': '2020-10-18', 'cases': 16982, 'hospital': None, 'deaths': 65.9},\n",
       "  {'date': '2020-10-17', 'cases': 16171, 'hospital': 996, 'deaths': 65.7},\n",
       "  {'date': '2020-10-16', 'cases': 15650, 'hospital': 874, 'deaths': 65.5},\n",
       "  {'date': '2020-10-15', 'cases': 18980, 'hospital': 1022, 'deaths': 65.3},\n",
       "  {'date': '2020-10-14', 'cases': 19724, 'hospital': 934, 'deaths': 65.1},\n",
       "  {'date': '2020-10-13', 'cases': 17234, 'hospital': 992, 'deaths': 64.9},\n",
       "  {'date': '2020-10-12', 'cases': 13972, 'hospital': 845, 'deaths': 64.8},\n",
       "  {'date': '2020-10-11', 'cases': 12872, 'hospital': 800, 'deaths': 64.6},\n",
       "  {'date': '2020-10-10', 'cases': 15166, 'hospital': 693, 'deaths': 64.4},\n",
       "  {'date': '2020-10-09', 'cases': 13864, 'hospital': 679, 'deaths': 64.3},\n",
       "  {'date': '2020-10-08', 'cases': 17540, 'hospital': 684, 'deaths': 64.2},\n",
       "  {'date': '2020-10-07', 'cases': 14162, 'hospital': 660, 'deaths': 64},\n",
       "  {'date': '2020-10-06', 'cases': 14542, 'hospital': 700, 'deaths': 63.9},\n",
       "  {'date': '2020-10-05', 'cases': 12594, 'hospital': 610, 'deaths': 63.8},\n",
       "  {'date': '2020-10-04', 'cases': 22961, 'hospital': 621, 'deaths': 63.7},\n",
       "  {'date': '2020-10-03', 'cases': 12872, 'hospital': 522, 'deaths': 63.6},\n",
       "  {'date': '2020-10-02', 'cases': 6968, 'hospital': 517, 'deaths': 63.5},\n",
       "  {'date': '2020-10-01', 'cases': 6914, 'hospital': 507, 'deaths': 63.4},\n",
       "  {'date': '2020-09-30', 'cases': 7108, 'hospital': 438, 'deaths': 63.3},\n",
       "  {'date': '2020-09-29', 'cases': 7143, 'hospital': 433, 'deaths': 63.2},\n",
       "  {'date': '2020-09-28', 'cases': 4044, 'hospital': 435, 'deaths': 63.1},\n",
       "  {'date': '2020-09-27', 'cases': 5693, 'hospital': 334, 'deaths': 63.1},\n",
       "  {'date': '2020-09-26', 'cases': 6042, 'hospital': 337, 'deaths': 63},\n",
       "  {'date': '2020-09-25', 'cases': 6874, 'hospital': 374, 'deaths': 62.9},\n",
       "  {'date': '2020-09-24', 'cases': 6634, 'hospital': 416, 'deaths': 62.9},\n",
       "  {'date': '2020-09-23', 'cases': 6178, 'hospital': 411, 'deaths': 62.8},\n",
       "  {'date': '2020-09-22', 'cases': 4926, 'hospital': 346, 'deaths': 62.8},\n",
       "  {'date': '2020-09-21', 'cases': 4368, 'hospital': 362, 'deaths': 62.7},\n",
       "  {'date': '2020-09-20', 'cases': 3899, 'hospital': 283, 'deaths': 62.7},\n",
       "  {'date': '2020-09-19', 'cases': 4422, 'hospital': 254, 'deaths': 62.6},\n",
       "  {'date': '2020-09-18', 'cases': 4322, 'hospital': 255, 'deaths': 62.6},\n",
       "  {'date': '2020-09-17', 'cases': 3395, 'hospital': 260, 'deaths': 62.5},\n",
       "  {'date': '2020-09-16', 'cases': 3991, 'hospital': 272, 'deaths': 62.5},\n",
       "  {'date': '2020-09-15', 'cases': 3105, 'hospital': 261, 'deaths': 62.5},\n",
       "  {'date': '2020-09-14', 'cases': 2621, 'hospital': 248, 'deaths': 62.4},\n",
       "  {'date': '2020-09-13', 'cases': 3330, 'hospital': 220, 'deaths': 62.4},\n",
       "  {'date': '2020-09-12', 'cases': 3497, 'hospital': 212, 'deaths': 62.4},\n",
       "  {'date': '2020-09-11', 'cases': 3539, 'hospital': 223, 'deaths': 62.4},\n",
       "  {'date': '2020-09-10', 'cases': 2919, 'hospital': 214, 'deaths': 62.3},\n",
       "  {'date': '2020-09-09', 'cases': 2659, 'hospital': 198, 'deaths': 62.3},\n",
       "  {'date': '2020-09-08', 'cases': 2460, 'hospital': 179, 'deaths': 62.3},\n",
       "  {'date': '2020-09-07', 'cases': 2948, 'hospital': 138, 'deaths': 62.3},\n",
       "  {'date': '2020-09-06', 'cases': 2988, 'hospital': 135, 'deaths': 62.3},\n",
       "  {'date': '2020-09-05', 'cases': 1813, 'hospital': 127, 'deaths': 62.3},\n",
       "  {'date': '2020-09-04', 'cases': 1940, 'hospital': 149, 'deaths': 62.2},\n",
       "  {'date': '2020-09-03', 'cases': 1735, 'hospital': 142, 'deaths': 62.2},\n",
       "  {'date': '2020-09-02', 'cases': 1508, 'hospital': 143, 'deaths': 62.2},\n",
       "  {'date': '2020-09-01', 'cases': 1295, 'hospital': 132, 'deaths': 62.2},\n",
       "  {'date': '2020-08-31', 'cases': 1406, 'hospital': 90, 'deaths': 62.2},\n",
       "  {'date': '2020-08-30', 'cases': 1715, 'hospital': 76, 'deaths': 62.2},\n",
       "  {'date': '2020-08-29', 'cases': 1108, 'hospital': 108, 'deaths': 62.2},\n",
       "  {'date': '2020-08-28', 'cases': 1276, 'hospital': 137, 'deaths': 62.2},\n",
       "  {'date': '2020-08-27', 'cases': 1522, 'hospital': 146, 'deaths': 62.1},\n",
       "  {'date': '2020-08-26', 'cases': 1048, 'hospital': 127, 'deaths': 62.1},\n",
       "  {'date': '2020-08-25', 'cases': 1184, 'hospital': 119, 'deaths': 62.1},\n",
       "  {'date': '2020-08-24', 'cases': 853, 'hospital': 88, 'deaths': 62.1},\n",
       "  {'date': '2020-08-23', 'cases': 1160, 'hospital': 73, 'deaths': 62.1},\n",
       "  {'date': '2020-08-22', 'cases': 1288, 'hospital': 69, 'deaths': 62.1},\n",
       "  {'date': '2020-08-21', 'cases': 1033, 'hospital': 108, 'deaths': 62.1},\n",
       "  {'date': '2020-08-20', 'cases': 1182, 'hospital': 94, 'deaths': 62.1},\n",
       "  {'date': '2020-08-19', 'cases': 812, 'hospital': 111, 'deaths': 62},\n",
       "  {'date': '2020-08-18', 'cases': 1089, 'hospital': 126, 'deaths': 62},\n",
       "  {'date': '2020-08-17', 'cases': 713, 'hospital': 94, 'deaths': 62},\n",
       "  {'date': '2020-08-16', 'cases': 1040, 'hospital': 79, 'deaths': 62},\n",
       "  {'date': '2020-08-15', 'cases': 1077, 'hospital': 98, 'deaths': 62},\n",
       "  {'date': '2020-08-14', 'cases': 1441, 'hospital': 99, 'deaths': 62},\n",
       "  {'date': '2020-08-13', 'cases': 1129, 'hospital': 126, 'deaths': 62},\n",
       "  {'date': '2020-08-12', 'cases': 1009, 'hospital': 100, 'deaths': 62},\n",
       "  {'date': '2020-08-11', 'cases': 1148, 'hospital': 113, 'deaths': 61.9},\n",
       "  {'date': '2020-08-10', 'cases': 740, 'hospital': 84, 'deaths': 61.9},\n",
       "  {'date': '2020-08-09', 'cases': 1062, 'hospital': 106, 'deaths': 61.9},\n",
       "  {'date': '2020-08-08', 'cases': 758, 'hospital': 139, 'deaths': 61.9},\n",
       "  {'date': '2020-08-07', 'cases': 871, 'hospital': 115, 'deaths': 61.9},\n",
       "  {'date': '2020-08-06', 'cases': 950, 'hospital': 100, 'deaths': 61.9},\n",
       "  {'date': '2020-08-05', 'cases': 892, 'hospital': 138, 'deaths': 61.8},\n",
       "  {'date': '2020-08-04', 'cases': 670, 'hospital': 126, 'deaths': 61.8},\n",
       "  {'date': '2020-08-03', 'cases': 898, 'hospital': 106, 'deaths': 61.8},\n",
       "  {'date': '2020-08-02', 'cases': 744, 'hospital': 93, 'deaths': 61.8},\n",
       "  {'date': '2020-08-01', 'cases': 761, 'hospital': 127, 'deaths': 61.8},\n",
       "  {'date': '2020-07-31', 'cases': 880, 'hospital': 112, 'deaths': 61.8},\n",
       "  {'date': '2020-07-30', 'cases': 846, 'hospital': 129, 'deaths': 61.7},\n",
       "  {'date': '2020-07-29', 'cases': 763, 'hospital': 131, 'deaths': 61.7},\n",
       "  {'date': '2020-07-28', 'cases': 581, 'hospital': 119, 'deaths': 61.7},\n",
       "  {'date': '2020-07-27', 'cases': 685, 'hospital': 128, 'deaths': 61.7},\n",
       "  {'date': '2020-07-26', 'cases': 745, 'hospital': 109, 'deaths': 61.7},\n",
       "  {'date': '2020-07-25', 'cases': 767, 'hospital': 117, 'deaths': 61.6},\n",
       "  {'date': '2020-07-24', 'cases': 768, 'hospital': 157, 'deaths': 61.6},\n",
       "  {'date': '2020-07-23', 'cases': 769, 'hospital': 198, 'deaths': 61.6},\n",
       "  {'date': '2020-07-22', 'cases': 560, 'hospital': 157, 'deaths': 61.6},\n",
       "  {'date': '2020-07-21', 'cases': 445, 'hospital': 125, 'deaths': 61.6},\n",
       "  {'date': '2020-07-20', 'cases': 557, 'hospital': 130, 'deaths': 61.5},\n",
       "  {'date': '2020-07-19', 'cases': 726, 'hospital': 126, 'deaths': 61.5},\n",
       "  {'date': '2020-07-18', 'cases': 827, 'hospital': 104, 'deaths': 61.5},\n",
       "  {'date': '2020-07-17', 'cases': 687, 'hospital': 142, 'deaths': 61.5},\n",
       "  {'date': '2020-07-16', 'cases': 642, 'hospital': 166, 'deaths': 61.5},\n",
       "  {'date': '2020-07-15', 'cases': 538, 'hospital': 165, 'deaths': 61.4},\n",
       "  {'date': '2020-07-14', 'cases': 398, 'hospital': 185, 'deaths': 61.4},\n",
       "  {'date': '2020-07-13', 'cases': 530, 'hospital': 188, 'deaths': 61.4},\n",
       "  {'date': '2020-07-12', 'cases': 650, 'hospital': 114, 'deaths': 61.3},\n",
       "  {'date': '2020-07-11', 'cases': 820, 'hospital': 175, 'deaths': 61.3},\n",
       "  {'date': '2020-07-10', 'cases': 512, 'hospital': 174, 'deaths': 61.3},\n",
       "  {'date': '2020-07-09', 'cases': 642, 'hospital': 212, 'deaths': 61.2},\n",
       "  {'date': '2020-07-08', 'cases': 630, 'hospital': 208, 'deaths': 61.2},\n",
       "  {'date': '2020-07-07', 'cases': 581, 'hospital': 214, 'deaths': 61.2},\n",
       "  {'date': '2020-07-06', 'cases': 343, 'hospital': 205, 'deaths': 61.1},\n",
       "  {'date': '2020-07-05', 'cases': 516, 'hospital': 195, 'deaths': 61.1},\n",
       "  {'date': '2020-07-04', 'cases': 624, 'hospital': 201, 'deaths': 61},\n",
       "  {'date': '2020-07-03', 'cases': 544, 'hospital': 213, 'deaths': 61},\n",
       "  {'date': '2020-07-02', 'cases': 576, 'hospital': 214, 'deaths': 60.9},\n",
       "  {'date': '2020-07-01', 'cases': 829, 'hospital': 269, 'deaths': 60.9},\n",
       "  {'date': '2020-06-30', 'cases': 689, 'hospital': 295, 'deaths': 60.8},\n",
       "  {'date': '2020-06-29', 'cases': 815, 'hospital': 219, 'deaths': 60.8},\n",
       "  {'date': '2020-06-28', 'cases': 901, 'hospital': 207, 'deaths': 60.7},\n",
       "  {'date': '2020-06-27', 'cases': 890, 'hospital': 286, 'deaths': 60.6},\n",
       "  {'date': '2020-06-26', 'cases': 1006, 'hospital': 337, 'deaths': 60.6},\n",
       "  {'date': '2020-06-25', 'cases': 1118, 'hospital': 322, 'deaths': 60.5},\n",
       "  {'date': '2020-06-24', 'cases': 653, 'hospital': 368, 'deaths': 60.4},\n",
       "  {'date': '2020-06-23', 'cases': 874, 'hospital': 361, 'deaths': 60.3},\n",
       "  {'date': '2020-06-22', 'cases': 958, 'hospital': 392, 'deaths': 60.2},\n",
       "  {'date': '2020-06-21', 'cases': 1221, 'hospital': 287, 'deaths': 60.1},\n",
       "  {'date': '2020-06-20', 'cases': 1295, 'hospital': 257, 'deaths': 60},\n",
       "  {'date': '2020-06-19', 'cases': 1346, 'hospital': 337, 'deaths': 59.9},\n",
       "  {'date': '2020-06-18', 'cases': 1218, 'hospital': 401, 'deaths': 59.8},\n",
       "  {'date': '2020-06-17', 'cases': 1115, 'hospital': 432, 'deaths': 59.8},\n",
       "  {'date': '2020-06-16', 'cases': 1279, 'hospital': 454, 'deaths': 59.7},\n",
       "  {'date': '2020-06-15', 'cases': 1056, 'hospital': 439, 'deaths': 59.5},\n",
       "  {'date': '2020-06-14', 'cases': 1514, 'hospital': 364, 'deaths': 59.4},\n",
       "  {'date': '2020-06-13', 'cases': 1425, 'hospital': 387, 'deaths': 59.3},\n",
       "  {'date': '2020-06-12', 'cases': 1541, 'hospital': 391, 'deaths': 59.2},\n",
       "  {'date': '2020-06-11', 'cases': 1266, 'hospital': 446, 'deaths': 59.1},\n",
       "  {'date': '2020-06-10', 'cases': 1003, 'hospital': 513, 'deaths': 59},\n",
       "  {'date': '2020-06-09', 'cases': 1387, 'hospital': 493, 'deaths': 58.8},\n",
       "  {'date': '2020-06-08', 'cases': 1205, 'hospital': 412, 'deaths': 58.7},\n",
       "  {'date': '2020-06-07', 'cases': 1326, 'hospital': 406, 'deaths': 58.5},\n",
       "  {'date': '2020-06-06', 'cases': 1557, 'hospital': 406, 'deaths': 58.3},\n",
       "  {'date': '2020-06-05', 'cases': 1650, 'hospital': 474, 'deaths': 58.1},\n",
       "  {'date': '2020-06-04', 'cases': 1805, 'hospital': 564, 'deaths': 58},\n",
       "  {'date': '2020-06-03', 'cases': 1871, 'hospital': 633, 'deaths': 57.8},\n",
       "  {'date': '2020-06-02', 'cases': 1613, 'hospital': 667, 'deaths': 57.5},\n",
       "  {'date': '2020-06-01', 'cases': 1570, 'hospital': 604, 'deaths': 57.3},\n",
       "  {'date': '2020-05-31', 'cases': 1936, 'hospital': 528, 'deaths': 57.1},\n",
       "  {'date': '2020-05-30', 'cases': 2445, 'hospital': 567, 'deaths': 56.9},\n",
       "  {'date': '2020-05-29', 'cases': 2095, 'hospital': 614, 'deaths': 56.6},\n",
       "  {'date': '2020-05-28', 'cases': 1887, 'hospital': 702, 'deaths': 56.4},\n",
       "  {'date': '2020-05-27', 'cases': 2013, 'hospital': 712, 'deaths': 56},\n",
       "  {'date': '2020-05-26', 'cases': 2004, 'hospital': 697, 'deaths': 55.7},\n",
       "  {'date': '2020-05-25', 'cases': 1625, 'hospital': 602, 'deaths': 55.4},\n",
       "  {'date': '2020-05-24', 'cases': 2409, 'hospital': 587, 'deaths': 55.1},\n",
       "  {'date': '2020-05-23', 'cases': 2959, 'hospital': 643, 'deaths': 54.8},\n",
       "  {'date': '2020-05-22', 'cases': 3287, 'hospital': 738, 'deaths': 54.5},\n",
       "  {'date': '2020-05-21', 'cases': 2615, 'hospital': 840, 'deaths': 54.2},\n",
       "  {'date': '2020-05-20', 'cases': 2472, 'hospital': 851, 'deaths': 53.8},\n",
       "  {'date': '2020-05-19', 'cases': 2412, 'hospital': 879, 'deaths': 53.4},\n",
       "  {'date': '2020-05-18', 'cases': 2684, 'hospital': 850, 'deaths': 53},\n",
       "  {'date': '2020-05-17', 'cases': 3562, 'hospital': 793, 'deaths': 52.6},\n",
       "  {'date': '2020-05-16', 'cases': 3451, 'hospital': 816, 'deaths': 52.2},\n",
       "  {'date': '2020-05-15', 'cases': 3560, 'hospital': 870, 'deaths': 51.7},\n",
       "  {'date': '2020-05-14', 'cases': 3446, 'hospital': 910, 'deaths': 51.2},\n",
       "  {'date': '2020-05-13', 'cases': 3242, 'hospital': 968, 'deaths': 50.7},\n",
       "  {'date': '2020-05-12', 'cases': 3403, 'hospital': 986, 'deaths': 50.3},\n",
       "  {'date': '2020-05-11', 'cases': 3877, 'hospital': 1029, 'deaths': 49.8},\n",
       "  {'date': '2020-05-10', 'cases': 3923, 'hospital': 914, 'deaths': 49.3},\n",
       "  {'date': '2020-05-09', 'cases': 3896, 'hospital': 940, 'deaths': 48.8},\n",
       "  {'date': '2020-05-08', 'cases': 4649, 'hospital': 910, 'deaths': 48.2},\n",
       "  {'date': '2020-05-07', 'cases': 5614, 'hospital': 1164, 'deaths': 47.7},\n",
       "  {'date': '2020-05-06', 'cases': 6111, 'hospital': 1206, 'deaths': 47},\n",
       "  {'date': '2020-05-05', 'cases': 4406, 'hospital': 1147, 'deaths': 46.3},\n",
       "  {'date': '2020-05-04', 'cases': 3985, 'hospital': 1278, 'deaths': 45.6},\n",
       "  {'date': '2020-05-03', 'cases': 4339, 'hospital': 1221, 'deaths': 44.9},\n",
       "  {'date': '2020-05-02', 'cases': 4806, 'hospital': 1179, 'deaths': 44.2},\n",
       "  {'date': '2020-05-01', 'cases': 6201, 'hospital': 1262, 'deaths': 43.5},\n",
       "  {'date': '2020-04-30', 'cases': 6032, 'hospital': 1443, 'deaths': 42.6},\n",
       "  {'date': '2020-04-29', 'cases': 4076, 'hospital': 1486, 'deaths': 41.8},\n",
       "  {'date': '2020-04-28', 'cases': 3996, 'hospital': 1516, 'deaths': 40.9},\n",
       "  {'date': '2020-04-27', 'cases': 4310, 'hospital': 1538, 'deaths': 40.1},\n",
       "  {'date': '2020-04-26', 'cases': 4463, 'hospital': 1355, 'deaths': 39.2},\n",
       "  {'date': '2020-04-25', 'cases': 4913, 'hospital': 1254, 'deaths': 38.3},\n",
       "  {'date': '2020-04-24', 'cases': 5386, 'hospital': 1526, 'deaths': 37.3},\n",
       "  {'date': '2020-04-23', 'cases': 4583, 'hospital': 1513, 'deaths': 36.3},\n",
       "  {'date': '2020-04-22', 'cases': 4451, 'hospital': 1528, 'deaths': 35.3},\n",
       "  {'date': '2020-04-21', 'cases': 4301, 'hospital': 1713, 'deaths': 34.2},\n",
       "  {'date': '2020-04-20', 'cases': 4676, 'hospital': 1737, 'deaths': 33.1},\n",
       "  {'date': '2020-04-19', 'cases': 5850, 'hospital': 1657, 'deaths': 31.9},\n",
       "  {'date': '2020-04-18', 'cases': 5526, 'hospital': 1628, 'deaths': 30.8},\n",
       "  {'date': '2020-04-17', 'cases': 5599, 'hospital': 1966, 'deaths': 29.6},\n",
       "  {'date': '2020-04-16', 'cases': 4618, 'hospital': 2010, 'deaths': 28.3},\n",
       "  {'date': '2020-04-15', 'cases': 4605, 'hospital': 1880, 'deaths': 27.1},\n",
       "  {'date': '2020-04-14', 'cases': 5252, 'hospital': 2088, 'deaths': 25.8},\n",
       "  {'date': '2020-04-13', 'cases': 4342, 'hospital': 2160, 'deaths': 24.5},\n",
       "  {'date': '2020-04-12', 'cases': 5288, 'hospital': 2066, 'deaths': 23.2},\n",
       "  {'date': '2020-04-11', 'cases': 5234, 'hospital': 2162, 'deaths': 21.7},\n",
       "  {'date': '2020-04-10', 'cases': 5706, 'hospital': 2460, 'deaths': 20.3},\n",
       "  {'date': '2020-04-09', 'cases': 4675, 'hospital': 2629, 'deaths': 18.9},\n",
       "  {'date': '2020-04-08', 'cases': 5865, 'hospital': 2966, 'deaths': 17.4},\n",
       "  {'date': '2020-04-07', 'cases': 3888, 'hospital': 3150, 'deaths': 15.8},\n",
       "  {'date': '2020-04-06', 'cases': 4143, 'hospital': 3045, 'deaths': 14.3},\n",
       "  {'date': '2020-04-05', 'cases': 6199, 'hospital': 2913, 'deaths': 13},\n",
       "  {'date': '2020-04-04', 'cases': 4000, 'hospital': 2921, 'deaths': 11.6},\n",
       "  {'date': '2020-04-03', 'cases': 4672, 'hospital': 2930, 'deaths': 10.2},\n",
       "  {'date': '2020-04-02', 'cases': 4522, 'hospital': 3282, 'deaths': 9},\n",
       "  {'date': '2020-04-01', 'cases': 4567, 'hospital': 3564, 'deaths': 7.8},\n",
       "  {'date': '2020-03-31', 'cases': 3250, 'hospital': 2835, 'deaths': 6.6},\n",
       "  {'date': '2020-03-30', 'cases': 2665, 'hospital': 3189, 'deaths': 5.6},\n",
       "  {'date': '2020-03-29', 'cases': 2502, 'hospital': 2491, 'deaths': 4.8},\n",
       "  {'date': '2020-03-28', 'cases': 2556, 'hospital': 2193, 'deaths': 4},\n",
       "  {'date': '2020-03-27', 'cases': 2890, 'hospital': 2224, 'deaths': 3.3},\n",
       "  {'date': '2020-03-26', 'cases': 2129, 'hospital': 1930, 'deaths': 2.8},\n",
       "  {'date': '2020-03-25', 'cases': 1452, 'hospital': 2084, 'deaths': 2.2},\n",
       "  {'date': '2020-03-24', 'cases': 1427, 'hospital': 1719, 'deaths': 1.8},\n",
       "  {'date': '2020-03-23', 'cases': 967, 'hospital': 1271, 'deaths': 1.4},\n",
       "  {'date': '2020-03-22', 'cases': 665, 'hospital': None, 'deaths': 1.1},\n",
       "  {'date': '2020-03-21', 'cases': 1035, 'hospital': None, 'deaths': 0.9},\n",
       "  {'date': '2020-03-20', 'cases': 714, 'hospital': None, 'deaths': 0.7},\n",
       "  {'date': '2020-03-19', 'cases': 643, 'hospital': None, 'deaths': 0.5},\n",
       "  {'date': '2020-03-18', 'cases': 676, 'hospital': None, 'deaths': 0.4},\n",
       "  {'date': '2020-03-17', 'cases': 407, 'hospital': None, 'deaths': 0.3},\n",
       "  {'date': '2020-03-16', 'cases': 152, 'hospital': None, 'deaths': 0.2},\n",
       "  {'date': '2020-03-15', 'cases': 330, 'hospital': None, 'deaths': 0.2},\n",
       "  {'date': '2020-03-14', 'cases': 264, 'hospital': None, 'deaths': 0.1},\n",
       "  {'date': '2020-03-13', 'cases': 207, 'hospital': None, 'deaths': 0.1},\n",
       "  {'date': '2020-03-12', 'cases': 134, 'hospital': None, 'deaths': 0.1},\n",
       "  {'date': '2020-03-11', 'cases': 83, 'hospital': None, 'deaths': 0},\n",
       "  {'date': '2020-03-10', 'cases': 52, 'hospital': None, 'deaths': 0},\n",
       "  {'date': '2020-03-09', 'cases': 50, 'hospital': None, 'deaths': 0},\n",
       "  {'date': '2020-03-08', 'cases': 65, 'hospital': None, 'deaths': 0},\n",
       "  {'date': '2020-03-07', 'cases': 46, 'hospital': None, 'deaths': None},\n",
       "  {'date': '2020-03-06', 'cases': 46, 'hospital': None, 'deaths': None},\n",
       "  {'date': '2020-03-05', 'cases': 29, 'hospital': None, 'deaths': 0},\n",
       "  {'date': '2020-03-04', 'cases': 34, 'hospital': None, 'deaths': None},\n",
       "  {'date': '2020-03-03', 'cases': 11, 'hospital': None, 'deaths': 0},\n",
       "  {'date': '2020-03-02', 'cases': 5, 'hospital': None, 'deaths': 0},\n",
       "  {'date': '2020-03-01', 'cases': 12, 'hospital': None, 'deaths': None},\n",
       "  {'date': '2020-02-29', 'cases': 4, 'hospital': None, 'deaths': None},\n",
       "  {'date': '2020-02-28', 'cases': 6, 'hospital': None, 'deaths': None},\n",
       "  {'date': '2020-02-27', 'cases': 0, 'hospital': None, 'deaths': None},\n",
       "  {'date': '2020-02-26', 'cases': 0, 'hospital': None, 'deaths': None},\n",
       "  {'date': '2020-02-25', 'cases': 0, 'hospital': None, 'deaths': None},\n",
       "  {'date': '2020-02-24', 'cases': 4, 'hospital': None, 'deaths': None},\n",
       "  {'date': '2020-02-23', 'cases': 0, 'hospital': None, 'deaths': None},\n",
       "  {'date': '2020-02-22', 'cases': 0, 'hospital': None, 'deaths': None},\n",
       "  {'date': '2020-02-21', 'cases': 0, 'hospital': None, 'deaths': None},\n",
       "  {'date': '2020-02-20', 'cases': 0, 'hospital': None, 'deaths': None},\n",
       "  {'date': '2020-02-19', 'cases': 0, 'hospital': None, 'deaths': None},\n",
       "  {'date': '2020-02-18', 'cases': 0, 'hospital': None, 'deaths': None},\n",
       "  {'date': '2020-02-17', 'cases': 0, 'hospital': None, 'deaths': None},\n",
       "  {'date': '2020-02-16', 'cases': 0, 'hospital': None, 'deaths': None},\n",
       "  {'date': '2020-02-15', 'cases': 0, 'hospital': None, 'deaths': None},\n",
       "  {'date': '2020-02-14', 'cases': 0, 'hospital': None, 'deaths': None},\n",
       "  {'date': '2020-02-13', 'cases': 1, 'hospital': None, 'deaths': None},\n",
       "  {'date': '2020-02-12', 'cases': 0, 'hospital': None, 'deaths': None},\n",
       "  {'date': '2020-02-11', 'cases': 0, 'hospital': None, 'deaths': None},\n",
       "  {'date': '2020-02-10', 'cases': 4, 'hospital': None, 'deaths': None},\n",
       "  {'date': '2020-02-09', 'cases': 1, 'hospital': None, 'deaths': None},\n",
       "  {'date': '2020-02-08', 'cases': 0, 'hospital': None, 'deaths': None},\n",
       "  {'date': '2020-02-07', 'cases': 0, 'hospital': None, 'deaths': None},\n",
       "  {'date': '2020-02-06', 'cases': 1, 'hospital': None, 'deaths': None},\n",
       "  {'date': '2020-02-05', 'cases': 0, 'hospital': None, 'deaths': None},\n",
       "  {'date': '2020-02-04', 'cases': 0, 'hospital': None, 'deaths': None},\n",
       "  {'date': '2020-02-03', 'cases': 0, 'hospital': None, 'deaths': None},\n",
       "  {'date': '2020-02-02', 'cases': 0, 'hospital': None, 'deaths': None},\n",
       "  {'date': '2020-02-01', 'cases': 0, 'hospital': None, 'deaths': None},\n",
       "  {'date': '2020-01-31', 'cases': 2, 'hospital': None, 'deaths': None},\n",
       "  {'date': '2020-01-30', 'cases': 0, 'hospital': None, 'deaths': None},\n",
       "  {'date': '2020-01-29', 'cases': 0, 'hospital': None, 'deaths': None},\n",
       "  {'date': '2020-01-28', 'cases': 0, 'hospital': None, 'deaths': None},\n",
       "  {'date': '2020-01-27', 'cases': 0, 'hospital': None, 'deaths': None},\n",
       "  {'date': '2020-01-26', 'cases': 0, 'hospital': None, 'deaths': None},\n",
       "  {'date': '2020-01-25', 'cases': 0, 'hospital': None, 'deaths': None},\n",
       "  {'date': '2020-01-24', 'cases': 0, 'hospital': None, 'deaths': None},\n",
       "  {'date': '2020-01-23', 'cases': 0, 'hospital': None, 'deaths': None},\n",
       "  {'date': '2020-01-22', 'cases': 0, 'hospital': None, 'deaths': None},\n",
       "  {'date': '2020-01-21', 'cases': 0, 'hospital': None, 'deaths': None},\n",
       "  {'date': '2020-01-20', 'cases': 0, 'hospital': None, 'deaths': None},\n",
       "  {'date': '2020-01-19', 'cases': 0, 'hospital': None, 'deaths': None},\n",
       "  {'date': '2020-01-18', 'cases': 0, 'hospital': None, 'deaths': None},\n",
       "  {'date': '2020-01-17', 'cases': 0, 'hospital': None, 'deaths': None},\n",
       "  {'date': '2020-01-16', 'cases': 0, 'hospital': None, 'deaths': None},\n",
       "  {'date': '2020-01-15', 'cases': 0, 'hospital': None, 'deaths': None},\n",
       "  {'date': '2020-01-14', 'cases': 0, 'hospital': None, 'deaths': None},\n",
       "  {'date': '2020-01-13', 'cases': 0, 'hospital': None, 'deaths': None},\n",
       "  {'date': '2020-01-12', 'cases': 0, 'hospital': None, 'deaths': None},\n",
       "  {'date': '2020-01-11', 'cases': 0, 'hospital': None, 'deaths': None},\n",
       "  {'date': '2020-01-10', 'cases': 0, 'hospital': None, 'deaths': None},\n",
       "  {'date': '2020-01-09', 'cases': 0, 'hospital': None, 'deaths': None},\n",
       "  {'date': '2020-01-08', 'cases': 0, 'hospital': None, 'deaths': None},\n",
       "  {'date': '2020-01-07', 'cases': 0, 'hospital': None, 'deaths': None},\n",
       "  {'date': '2020-01-06', 'cases': 0, 'hospital': None, 'deaths': None},\n",
       "  {'date': '2020-01-05', 'cases': 0, 'hospital': None, 'deaths': None},\n",
       "  {'date': '2020-01-04', 'cases': 0, 'hospital': None, 'deaths': None},\n",
       "  {'date': '2020-01-03', 'cases': 0, 'hospital': None, 'deaths': None}],\n",
       " 'lastUpdate': '2020-10-21T18:53:17.000000Z',\n",
       " 'length': 293,\n",
       " 'totalPages': 1}"
      ]
     },
     "execution_count": 11,
     "metadata": {},
     "output_type": "execute_result"
    }
   ],
   "source": [
    "with open(\"timeseries.json\", \"rt\") as INFILE:\n",
    "    data=json.load(INFILE)\n",
    "    \n",
    "data"
   ]
  },
  {
   "cell_type": "code",
   "execution_count": 12,
   "metadata": {},
   "outputs": [
    {
     "name": "stdout",
     "output_type": "stream",
     "text": [
      "2020-01-03 00:00:00  to  2020-10-21 00:00:00\n"
     ]
    },
    {
     "data": {
      "text/html": [
       "<div>\n",
       "<style scoped>\n",
       "    .dataframe tbody tr th:only-of-type {\n",
       "        vertical-align: middle;\n",
       "    }\n",
       "\n",
       "    .dataframe tbody tr th {\n",
       "        vertical-align: top;\n",
       "    }\n",
       "\n",
       "    .dataframe thead th {\n",
       "        text-align: right;\n",
       "    }\n",
       "</style>\n",
       "<table border=\"1\" class=\"dataframe\">\n",
       "  <thead>\n",
       "    <tr style=\"text-align: right;\">\n",
       "      <th></th>\n",
       "      <th>cases</th>\n",
       "      <th>hospital</th>\n",
       "      <th>deaths</th>\n",
       "    </tr>\n",
       "  </thead>\n",
       "  <tbody>\n",
       "    <tr>\n",
       "      <th>2020-01-03</th>\n",
       "      <td>0.0</td>\n",
       "      <td>0.0</td>\n",
       "      <td>0.0</td>\n",
       "    </tr>\n",
       "    <tr>\n",
       "      <th>2020-01-04</th>\n",
       "      <td>0.0</td>\n",
       "      <td>0.0</td>\n",
       "      <td>0.0</td>\n",
       "    </tr>\n",
       "    <tr>\n",
       "      <th>2020-01-05</th>\n",
       "      <td>0.0</td>\n",
       "      <td>0.0</td>\n",
       "      <td>0.0</td>\n",
       "    </tr>\n",
       "    <tr>\n",
       "      <th>2020-01-06</th>\n",
       "      <td>0.0</td>\n",
       "      <td>0.0</td>\n",
       "      <td>0.0</td>\n",
       "    </tr>\n",
       "    <tr>\n",
       "      <th>2020-01-07</th>\n",
       "      <td>0.0</td>\n",
       "      <td>0.0</td>\n",
       "      <td>0.0</td>\n",
       "    </tr>\n",
       "    <tr>\n",
       "      <th>...</th>\n",
       "      <td>...</td>\n",
       "      <td>...</td>\n",
       "      <td>...</td>\n",
       "    </tr>\n",
       "    <tr>\n",
       "      <th>2020-10-17</th>\n",
       "      <td>16171.0</td>\n",
       "      <td>996.0</td>\n",
       "      <td>65.7</td>\n",
       "    </tr>\n",
       "    <tr>\n",
       "      <th>2020-10-18</th>\n",
       "      <td>16982.0</td>\n",
       "      <td>0.0</td>\n",
       "      <td>65.9</td>\n",
       "    </tr>\n",
       "    <tr>\n",
       "      <th>2020-10-19</th>\n",
       "      <td>18804.0</td>\n",
       "      <td>0.0</td>\n",
       "      <td>66.0</td>\n",
       "    </tr>\n",
       "    <tr>\n",
       "      <th>2020-10-20</th>\n",
       "      <td>21331.0</td>\n",
       "      <td>0.0</td>\n",
       "      <td>66.1</td>\n",
       "    </tr>\n",
       "    <tr>\n",
       "      <th>2020-10-21</th>\n",
       "      <td>26688.0</td>\n",
       "      <td>0.0</td>\n",
       "      <td>0.0</td>\n",
       "    </tr>\n",
       "  </tbody>\n",
       "</table>\n",
       "<p>293 rows × 3 columns</p>\n",
       "</div>"
      ],
      "text/plain": [
       "              cases  hospital  deaths\n",
       "2020-01-03      0.0       0.0     0.0\n",
       "2020-01-04      0.0       0.0     0.0\n",
       "2020-01-05      0.0       0.0     0.0\n",
       "2020-01-06      0.0       0.0     0.0\n",
       "2020-01-07      0.0       0.0     0.0\n",
       "...             ...       ...     ...\n",
       "2020-10-17  16171.0     996.0    65.7\n",
       "2020-10-18  16982.0       0.0    65.9\n",
       "2020-10-19  18804.0       0.0    66.0\n",
       "2020-10-20  21331.0       0.0    66.1\n",
       "2020-10-21  26688.0       0.0     0.0\n",
       "\n",
       "[293 rows x 3 columns]"
      ]
     },
     "execution_count": 12,
     "metadata": {},
     "output_type": "execute_result"
    }
   ],
   "source": [
    "datalist=data['data']\n",
    "\n",
    "dates=[dictionary['date'] for dictionary in datalist ]\n",
    "dates.sort()\n",
    "\n",
    "def parse_date(datestring):\n",
    "    \"\"\" Convert a date string into a pandas datetime object \"\"\"\n",
    "    return pd.to_datetime(datestring, format=\"%Y-%m-%d\")\n",
    "\n",
    "startdate=parse_date(dates[0])\n",
    "enddate=parse_date(dates[-1])\n",
    "print (startdate, ' to ', enddate)\n",
    "\n",
    "index=pd.date_range(startdate, enddate, freq='D')\n",
    "timeseriesdf=pd.DataFrame(index=index, columns=['cases', 'hospital', 'deaths'])\n",
    "\n",
    "for entry in datalist:\n",
    "    date=parse_date(entry['date'])\n",
    "    for column in ['cases', 'hospital', 'deaths']:\n",
    "        if pd.isna(timeseriesdf.loc[date, column]): \n",
    "            value= float(entry[column]) if entry[column]!=None else 0.0\n",
    "            timeseriesdf.loc[date, column]=value\n",
    "            \n",
    "timeseriesdf.fillna(0.0, inplace=True)\n",
    "            \n",
    "timeseriesdf\n"
   ]
  },
  {
   "cell_type": "code",
   "execution_count": 13,
   "metadata": {},
   "outputs": [
    {
     "data": {
      "text/plain": [
       "<matplotlib.axes._subplots.AxesSubplot at 0x1bf7ca1a070>"
      ]
     },
     "execution_count": 13,
     "metadata": {},
     "output_type": "execute_result"
    },
    {
     "data": {
      "image/png": "[encoded data removed]",
      "text/plain": [
       "<Figure size 600x400 with 1 Axes>"
      ]
     },
     "metadata": {
      "needs_background": "light"
     },
     "output_type": "display_data"
    }
   ],
   "source": [
    "timeseriesdf.plot()"
   ]
  },
  {
   "cell_type": "code",
   "execution_count": 14,
   "metadata": {},
   "outputs": [
    {
     "data": {
      "text/plain": [
       "<matplotlib.axes._subplots.AxesSubplot at 0x1bf7d186e80>"
      ]
     },
     "execution_count": 14,
     "metadata": {},
     "output_type": "execute_result"
    },
    {
     "data": {
      "image/png": "[encoded data removed]",
      "text/plain": [
       "<Figure size 600x400 with 1 Axes>"
      ]
     },
     "metadata": {
      "needs_background": "light"
     },
     "output_type": "display_data"
    }
   ],
   "source": [
    "timeseriesdf.plot(logy=True)"
   ]
  },
  {
   "cell_type": "code",
   "execution_count": 16,
   "metadata": {},
   "outputs": [],
   "source": [
    "timeseriesdf.to_pickle(\"timeseriesdf.pkl\")"
   ]
  },
  {
   "cell_type": "markdown",
   "metadata": {},
   "source": [
    "### section 3: adding interactive controls"
   ]
  },
  {
   "cell_type": "code",
   "execution_count": 17,
   "metadata": {},
   "outputs": [],
   "source": [
    "import ipywidgets as wdg\n",
    "import pandas as pd\n",
    "import matplotlib.pyplot as plt\n",
    "\n",
    "%matplotlib inline\n",
    "# make figures larger\n",
    "plt.rcParams['figure.dpi'] = 100"
   ]
  },
  {
   "cell_type": "code",
   "execution_count": 18,
   "metadata": {},
   "outputs": [
    {
     "data": {
      "application/vnd.jupyter.widget-view+json": {
       "model_id": "38e16f451a844daca10224e70a247978",
       "version_major": 2,
       "version_minor": 0
      },
      "text/plain": [
       "Button(description='Refresh data', icon='download', style=ButtonStyle(), tooltip='Click to download current Pu…"
      ]
     },
     "metadata": {},
     "output_type": "display_data"
    },
    {
     "name": "stdout",
     "output_type": "stream",
     "text": [
      "I'm downloading data from the API...\n",
      "...all done.\n"
     ]
    }
   ],
   "source": [
    "def access_api(button):\n",
    "    print(\"I'm downloading data from the API...\")\n",
    "    print(\"...all done.\")\n",
    "  \n",
    "apibutton=wdg.Button(\n",
    "    description='Refresh data',\n",
    "    disabled=False,\n",
    "    button_style='',\n",
    "    tooltip='Click to download current Public Health England data',\n",
    "    icon='download' \n",
    ")\n",
    "\n",
    "\n",
    "apibutton.on_click(access_api)\n",
    "\n",
    "display(apibutton)"
   ]
  },
  {
   "cell_type": "code",
   "execution_count": 19,
   "metadata": {},
   "outputs": [
    {
     "data": {
      "application/vnd.jupyter.widget-view+json": {
       "model_id": "f77993a49ed044b882c65fe2268ddd6c",
       "version_major": 2,
       "version_minor": 0
      },
      "text/plain": [
       "HBox(children=(SelectMultiple(description='Stats:', index=(0, 1, 2), options=('cases', 'hospital', 'deaths'), …"
      ]
     },
     "metadata": {},
     "output_type": "display_data"
    },
    {
     "data": {
      "application/vnd.jupyter.widget-view+json": {
       "model_id": "d3d484a1a4264f59a6bb634fbc1e9874",
       "version_major": 2,
       "version_minor": 0
      },
      "text/plain": [
       "Output()"
      ]
     },
     "metadata": {},
     "output_type": "display_data"
    }
   ],
   "source": [
    "series=wdg.SelectMultiple(\n",
    "    options=['cases', 'hospital', 'deaths'],\n",
    "    value=['cases', 'hospital', 'deaths'],\n",
    "    rows=3,\n",
    "    description='Stats:',\n",
    "    disabled=False\n",
    ")\n",
    "\n",
    "scale=wdg.RadioButtons(\n",
    "    options=['linear', 'log'],\n",
    "    description='Scale:',\n",
    "    disabled=False\n",
    ")\n",
    "\n",
    "controls=wdg.HBox([series, scale])\n",
    "\n",
    "def timeseries_graph(gcols, gscale):\n",
    "    if gscale=='linear':\n",
    "        logscale=False\n",
    "    else:\n",
    "        logscale=True\n",
    "    ncols=len(gcols)\n",
    "    if ncols>0:\n",
    "        timeseriesdf[list(gcols)].plot(logy=logscale)\n",
    "    else:\n",
    "        print(\"Click to select data for graph\")\n",
    "        print(\"(CTRL-Click to select more than one category)\")\n",
    "\n",
    "graph=wdg.interactive_output(timeseries_graph, {'gcols': series, 'gscale': scale})\n",
    "\n",
    "display(controls, graph)"
   ]
  },
  {
   "cell_type": "code",
   "execution_count": 21,
   "metadata": {},
   "outputs": [
    {
     "data": {
      "application/vnd.jupyter.widget-view+json": {
       "model_id": "7f800b0ebaa549c986e6e3586ac87c80",
       "version_major": 2,
       "version_minor": 0
      },
      "text/plain": [
       "HBox(children=(Output(outputs=({'output_type': 'display_data', 'data': {'text/plain': '<Figure size 600x400 wi…"
      ]
     },
     "metadata": {},
     "output_type": "display_data"
    }
   ],
   "source": [
    "ctrls=wdg.VBox([series, scale])\n",
    "form=wdg.HBox([graph, ctrls])\n",
    "\n",
    "display(form)"
   ]
  }
 ],
 "metadata": {
  "kernelspec": {
   "display_name": "Python 3",
   "language": "python",
   "name": "python3"
  },
  "language_info": {
   "codemirror_mode": {
    "name": "ipython",
    "version": 3
   },
   "file_extension": ".py",
   "mimetype": "text/x-python",
   "name": "python",
   "nbconvert_exporter": "python",
   "pygments_lexer": "ipython3",
   "version": "3.8.3"
  }
 },
 "nbformat": 4,
 "nbformat_minor": 4
}
